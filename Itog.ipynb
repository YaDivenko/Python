{
  "nbformat": 4,
  "nbformat_minor": 0,
  "metadata": {
    "colab": {
      "provenance": [],
      "authorship_tag": "ABX9TyNUHscWyhjZizN27EwCzJPx",
      "include_colab_link": true
    },
    "kernelspec": {
      "name": "python3",
      "display_name": "Python 3"
    },
    "language_info": {
      "name": "python"
    }
  },
  "cells": [
    {
      "cell_type": "markdown",
      "metadata": {
        "id": "view-in-github",
        "colab_type": "text"
      },
      "source": [
        "<a href=\"https://colab.research.google.com/github/YaDivenko/Python/blob/main/Itog.ipynb\" target=\"_parent\"><img src=\"https://colab.research.google.com/assets/colab-badge.svg\" alt=\"Open In Colab\"/></a>"
      ]
    },
    {
      "cell_type": "code",
      "execution_count": null,
      "metadata": {
        "id": "uJ79LU7Adiia"
      },
      "outputs": [],
      "source": [
        "import pandas as pd\n",
        "import random\n",
        "lst = ['robot'] * 10\n",
        "lst += ['human'] * 10\n",
        "random.shuffle(lst)"
      ]
    },
    {
      "cell_type": "code",
      "source": [
        "data = pd.DataFrame({'human': map(lambda x: int(x == \"human\"), lst), 'robot': map(lambda x: int(x == \"robot\"), lst)})\n",
        "print(data.head())"
      ],
      "metadata": {
        "colab": {
          "base_uri": "https://localhost:8080/"
        },
        "id": "nXMVyvSUdn34",
        "outputId": "bc2f2b36-48f2-4982-b8b9-31a288658076"
      },
      "execution_count": null,
      "outputs": [
        {
          "output_type": "stream",
          "name": "stdout",
          "text": [
            "   human  robot\n",
            "0      0      1\n",
            "1      0      1\n",
            "2      1      0\n",
            "3      1      0\n",
            "4      0      1\n"
          ]
        }
      ]
    },
    {
      "cell_type": "code",
      "source": [
        "data_1 = pd.DataFrame({\"whoAmI\": lst})\n",
        "data_1 = pd.get_dummies(data_1, columns=['whoAmI'], drop_first=False)\n",
        "print(data_1.head())"
      ],
      "metadata": {
        "colab": {
          "base_uri": "https://localhost:8080/"
        },
        "id": "Lmls1Jb7dqmx",
        "outputId": "f38dac8a-a0a2-42bb-a9bc-10f22bad9575"
      },
      "execution_count": null,
      "outputs": [
        {
          "output_type": "stream",
          "name": "stdout",
          "text": [
            "   whoAmI_human  whoAmI_robot\n",
            "0             0             1\n",
            "1             0             1\n",
            "2             1             0\n",
            "3             1             0\n",
            "4             0             1\n"
          ]
        }
      ]
    }
  ]
}